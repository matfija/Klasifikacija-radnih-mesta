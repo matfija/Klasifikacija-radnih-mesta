{
 "cells": [
  {
   "cell_type": "markdown",
   "id": "f602f541",
   "metadata": {},
   "source": [
    "## Klasifikacija radnih mesta<a id=\"par:toc\"></a>"
   ]
  },
  {
   "cell_type": "markdown",
   "id": "6e1702bc",
   "metadata": {},
   "source": [
    "U svesci je razmotrena primena tehnika obrade prirodnih jezika ([*natural language processing*](https://en.wikipedia.org/wiki/Natural_language_processing), *NLP*) na rešavanje problema razvrstavanja radnih mesta ([*job title*](https://en.wikipedia.org/wiki/International_Standard_Classification_of_Occupations)) prema senioritetu. Dostavljeni podaci su učitani i pripremljeni (normalizovani i vektorizovani) na više različitih načina, nakon čega je na delu radnih mesta obučeno nekoliko klasifikacionih modela. Modeli su vrednovani prema ponašanju na drugom delu podataka, odnosno uspešnosti predviđanja senioriteta."
   ]
  },
  {
   "cell_type": "markdown",
   "id": "91a5f1a7",
   "metadata": {},
   "source": [
    "Pored samog koda i rezultata, usput su detaljno prokomentarisani svi preduzeti koraci. Posebno je zanimljivo napomenuti da je primenjeno ponešto karakteristično za svaku od tri faze razvoja obrade prirodnih jezika kao oblasti: simbolički *NLP* (regularni izrazi, klasifikacija prema ručno osmišljenim pravilima i slično), statistički *NLP* (metode mašinskog učenja), neuronski/duboki *NLP* (primena neuronskih mreža i dubokog učenja)."
   ]
  },
  {
   "cell_type": "markdown",
   "id": "ce78af75",
   "metadata": {},
   "source": [
    "## Sadržaj"
   ]
  },
  {
   "cell_type": "markdown",
   "id": "5dc9f7fb",
   "metadata": {},
   "source": [
    "1. [Učitavanje podataka](#par:uchit)\n",
    "2. [Analiza i čišćenje](#par:anchi)\n",
    "3. [Normalizacija teksta](#par:norm)\n",
    "4. [Klasifikaciona pravila](#par:prav)\n",
    "5. [Retka vektorizacija](#par:retk)\n",
    "6. [Gusta vektorizacija](#par:gust)"
   ]
  },
  {
   "cell_type": "markdown",
   "id": "ad255e20",
   "metadata": {},
   "source": [
    "## 1. Učitavanje podataka [⮭]<a id=\"par:uchit\"></a>\n",
    "\n",
    "[⮭]: #par:toc"
   ]
  },
  {
   "cell_type": "markdown",
   "id": "72be1321",
   "metadata": {},
   "source": [
    "Za početak, neophodno je učitati dostavljene podatke. Oni se nalaze u pet različitih datoteka, od kojih su prve četiri (`20.txt`, `20-40.txt`, `40-60.txt`, `60-100.txt`) planirane za pravljenje i evaluaciju modela, dok peta (`test_titles.json`) sadrži neobeležena radna mesta i namenjena je proveri klasifikacije potpuno novih, nekategorizovanih i nezavisnih podataka. Sve nabrojane datoteke smeštene su u direktorijum `podaci`."
   ]
  },
  {
   "cell_type": "code",
   "execution_count": 1,
   "id": "2d430a62",
   "metadata": {},
   "outputs": [],
   "source": [
    "# Podaci za pravljenje i evaluaciju modela\n",
    "train_podaci = ['20.txt', '20-40.txt', '40-60.txt', '60-100.txt']\n",
    "\n",
    "# Dodavanje direktorijuma na imena datoteka\n",
    "for i, p in enumerate(train_podaci):\n",
    "    train_podaci[i] = '../podaci/' + p\n",
    "\n",
    "# Podaci za proveru klasifikacije na kraju\n",
    "test_podaci = '../podaci/test_titles.json'"
   ]
  },
  {
   "cell_type": "markdown",
   "id": "8b632760",
   "metadata": {},
   "source": [
    "Deo podataka planiran za pravljenje i evaluaciju modela dat je u strukturiranom formatu sledećeg oblika."
   ]
  },
  {
   "cell_type": "markdown",
   "id": "1dedf217",
   "metadata": {},
   "source": [
    "`{\n",
    "  name: 'chief financial officer',\n",
    "  role: 'finance',\n",
    "  levels: [ 'cxo' ],\n",
    "  sub_role: null\n",
    "}`"
   ]
  },
  {
   "cell_type": "markdown",
   "id": "d27d4bbf",
   "metadata": {},
   "source": [
    "Na konkretnom primeru, naziv radnog mesta (*name*) jeste [*chief financial officer*](https://en.wikipedia.org/wiki/Chief_financial_officer) (finansijski direktor), uloga/odeljenje (*role*) jeste *finance* (finansije), nivo/senioritet (*levels*) jeste [*cxo*](https://en.wikipedia.org/wiki/Chief_experience_officer) (direktor), dok poduloga (*sub_role*) nije definisana. Na drugim primerima, postoji više nivoa ili nisu definisani."
   ]
  },
  {
   "cell_type": "markdown",
   "id": "289f3e44",
   "metadata": {},
   "source": [
    "`{\n",
    "  name: 'community teaching experience',\n",
    "  role: null,\n",
    "  levels: [],\n",
    "  sub_role: null\n",
    "}`"
   ]
  },
  {
   "cell_type": "markdown",
   "id": "05ec2c04",
   "metadata": {},
   "source": [
    "`{\n",
    "  name: 'owner and lead programmer',\n",
    "  role: 'engineering',\n",
    "  levels: ['manager', 'owner'],\n",
    "  sub_role: null\n",
    "}`"
   ]
  },
  {
   "cell_type": "markdown",
   "id": "c48a6923",
   "metadata": {},
   "source": [
    "U nastavku je napisana jednostavna klasa koja skladišti podatke prema navedenom šablonu. Može i da ih poredi, kao i lepo da ih odštampa."
   ]
  },
  {
   "cell_type": "code",
   "execution_count": 2,
   "id": "b56a0fa8",
   "metadata": {},
   "outputs": [],
   "source": [
    "# Klasa koja opisuje radno mesto\n",
    "class JobTitle:\n",
    "    # Konstruktor koji samo pamti podatke\n",
    "    def __init__(self, name, role=None, levels=None, sub_role=None):\n",
    "        self.name = name\n",
    "        self.role = role\n",
    "        self.levels = levels\n",
    "        self.sub_role = sub_role\n",
    "    \n",
    "    # Poređenje (<) dva radna mesta\n",
    "    def __lt__(self, other):\n",
    "        return self.name < other.name\n",
    "    \n",
    "    # Poređenje (==) dva radna mesta\n",
    "    def __eq__(self, other):\n",
    "        return self.name == other.name\n",
    "    \n",
    "    # Predstavljanje objekta u vidu niske\n",
    "    def __str__(self):\n",
    "        return f'{{\\n  name: {self.name},\\n  role: {self.role},\\n  ' \\\n",
    "               f'levels: {self.levels},\\n  sub_role: {self.sub_role}\\n}}'"
   ]
  },
  {
   "cell_type": "markdown",
   "id": "f1994144",
   "metadata": {},
   "source": [
    "Ovaj format liči na poznati [*JSON*](https://en.wikipedia.org/wiki/JSON), ali ipak ne koristi navodnike na pravi način, tako da ga nije moguće učitati koristeći ugrađeni modul `json`. Umesto toga, iskorišćen je modul `re`, odnosno podaci su učitani koristeći [regularne izraze](https://en.wikipedia.org/wiki/Regular_expression). Ovo je u duhu simboličkog *NLP*-ja, kao prve etape u razvoju ove oblasti."
   ]
  },
  {
   "cell_type": "code",
   "execution_count": 3,
   "id": "60495c06",
   "metadata": {},
   "outputs": [],
   "source": [
    "# Modul za rad sa regularnim izrazima\n",
    "import re\n",
    "\n",
    "# Funkcija za učitavanje podataka iz datoteke\n",
    "def učitaj(datoteka):\n",
    "    # Otvaranje datoteke sa UTF-8 enkodiranjem\n",
    "    with open(datoteka, encoding='utf-8') as f:\n",
    "        # Čitanje celog teksta datoteke\n",
    "        tekst = f.read()\n",
    "    \n",
    "    # Regularni izraz koji izdvaja jedno radno mesto\n",
    "    regex = r'{\\s+name: (.+?),\\s+role: (.+?),\\s+levels: (.+?),\\s+sub_role: (.+?)\\s+}'\n",
    "    \n",
    "    # Inicijalno prazan niz podataka\n",
    "    podaci = []\n",
    "    \n",
    "    # Null iz datoteka je None u Pythonu\n",
    "    null = None\n",
    "    \n",
    "    # Dodavanje svakog radnog mesta iz datoteke\n",
    "    for name, role, levels, sub_role in re.findall(regex, tekst):\n",
    "        podaci.append(JobTitle(eval(name), eval(role),\n",
    "                               eval(levels), eval(sub_role)))\n",
    "    \n",
    "    # Vraćanje napunjenog niza podataka\n",
    "    return podaci"
   ]
  },
  {
   "cell_type": "code",
   "execution_count": 4,
   "id": "84a05976",
   "metadata": {},
   "outputs": [],
   "source": [
    "# Inicijalno prazan niz podataka\n",
    "podaci = []\n",
    "\n",
    "# Dodavanje radnih mesta iz svake datoteke\n",
    "for tp in train_podaci:\n",
    "    podaci.extend(učitaj(tp))"
   ]
  },
  {
   "cell_type": "markdown",
   "id": "39d5860f",
   "metadata": {},
   "source": [
    "Za kraj učitavanja, može se ispisati nekoliko instanci radnih mesta kako bi bilo jasno da je učitavanje obavljeno kako treba. Odabrane su iste kao gore."
   ]
  },
  {
   "cell_type": "code",
   "execution_count": 5,
   "id": "fac542b2",
   "metadata": {},
   "outputs": [
    {
     "name": "stdout",
     "output_type": "stream",
     "text": [
      "{\n",
      "  name: chief financial officer,\n",
      "  role: finance,\n",
      "  levels: ['cxo'],\n",
      "  sub_role: None\n",
      "}\n"
     ]
    }
   ],
   "source": [
    "# Ispis prvog podatka; primer sa jednim nivoom\n",
    "print(podaci[0])"
   ]
  },
  {
   "cell_type": "code",
   "execution_count": 6,
   "id": "dd1384c1",
   "metadata": {},
   "outputs": [
    {
     "name": "stdout",
     "output_type": "stream",
     "text": [
      "{\n",
      "  name: community teaching experience,\n",
      "  role: None,\n",
      "  levels: [],\n",
      "  sub_role: None\n",
      "}\n"
     ]
    }
   ],
   "source": [
    "# Ispis petog podatka; primer sa nedostajućim nivoom\n",
    "print(podaci[4])"
   ]
  },
  {
   "cell_type": "code",
   "execution_count": 7,
   "id": "dfefd531",
   "metadata": {},
   "outputs": [
    {
     "name": "stdout",
     "output_type": "stream",
     "text": [
      "{\n",
      "  name: owner and lead programmer,\n",
      "  role: engineering,\n",
      "  levels: ['manager', 'owner'],\n",
      "  sub_role: None\n",
      "}\n"
     ]
    }
   ],
   "source": [
    "# Ispis dvadesetog podatka; primer sa više (dva) nivoa\n",
    "print(podaci[19])"
   ]
  },
  {
   "cell_type": "markdown",
   "id": "f6dc91c0",
   "metadata": {},
   "source": [
    "Test podaci su u korektnom *JSON* formatu, pa se mogu lakše učitati, uz odgovarajuću bibliotečku podršku."
   ]
  },
  {
   "cell_type": "markdown",
   "id": "54648a96",
   "metadata": {},
   "source": [
    "`[\n",
    "{\"final_title\":\"Implementation Consultant III\"},\n",
    "...\n",
    "{\"final_title\":\"Co-Chairman Bridgepoint Emerging Leaders\"}\n",
    "]`"
   ]
  },
  {
   "cell_type": "code",
   "execution_count": 8,
   "id": "6616e8e5",
   "metadata": {},
   "outputs": [],
   "source": [
    "# Modul za rad sa JSON formatom\n",
    "import json\n",
    "\n",
    "# Učitavanje test podataka iz datoteke\n",
    "with open(test_podaci, encoding='utf-8') as f:\n",
    "    test = json.load(f)\n",
    "\n",
    "# Ubacivanje učitanih podataka u klasu\n",
    "test = [JobTitle(t['final_title']) for t in test]"
   ]
  },
  {
   "cell_type": "code",
   "execution_count": 9,
   "id": "84fbead5",
   "metadata": {},
   "outputs": [
    {
     "name": "stdout",
     "output_type": "stream",
     "text": [
      "Ukupno test podataka: 40000\n"
     ]
    }
   ],
   "source": [
    "# Ispit broja test podataka\n",
    "print('Ukupno test podataka:', len(test))"
   ]
  },
  {
   "cell_type": "code",
   "execution_count": 10,
   "id": "402387be",
   "metadata": {},
   "outputs": [
    {
     "name": "stdout",
     "output_type": "stream",
     "text": [
      "{\n",
      "  name: Implementation Consultant III,\n",
      "  role: None,\n",
      "  levels: None,\n",
      "  sub_role: None\n",
      "}\n"
     ]
    }
   ],
   "source": [
    "# Ispis prvog podatka kao primer\n",
    "print(test[0])"
   ]
  },
  {
   "cell_type": "markdown",
   "id": "914a9b93",
   "metadata": {},
   "source": [
    "## 2. Analiza i čišćenje [⮭]<a id=\"par:anchi\"></a>\n",
    "\n",
    "[⮭]: #par:toc"
   ]
  },
  {
   "cell_type": "markdown",
   "id": "1f07d230",
   "metadata": {},
   "source": [
    "Korisno je proučiti podatke ([eksploratorna analiza](https://en.wikipedia.org/wiki/Exploratory_data_analysis)) kako bi se stekao uvid u njih pre prelaska na narednu fazu obrade. Primera radi, važno je uočiti da je tek svaki deveti do deseti objekat unikat. Znatno je više učitanih radnih mesta od različitih, što su ona koja imaju različito (jedinstveno) ime."
   ]
  },
  {
   "cell_type": "code",
   "execution_count": 11,
   "id": "5154500f",
   "metadata": {},
   "outputs": [],
   "source": [
    "# Modul za efikasan rad sa nizovima\n",
    "import numpy as np\n",
    "\n",
    "# Funkcija za određivanje unikata\n",
    "unikati = lambda niz: np.unique(niz, return_counts=True)"
   ]
  },
  {
   "cell_type": "code",
   "execution_count": 12,
   "id": "8e3aefb3",
   "metadata": {},
   "outputs": [
    {
     "name": "stdout",
     "output_type": "stream",
     "text": [
      "Ukupno učitanih radnih mesta: 611586\n",
      "Ukupno različitih radnih mesta: 64815\n"
     ]
    }
   ],
   "source": [
    "# Određivanje nereduntantnih podataka\n",
    "podjed, brjed = unikati(podaci)\n",
    "\n",
    "# Izveštavanje o ukupom broju instanci\n",
    "print('Ukupno učitanih radnih mesta:', len(podaci))\n",
    "\n",
    "# Izveštavanje o broju jedinstvenih instanci\n",
    "print('Ukupno različitih radnih mesta:', len(podjed))"
   ]
  },
  {
   "cell_type": "markdown",
   "id": "52c5a629",
   "metadata": {},
   "source": [
    "Daljom analizom može se utvrditi da se više od pola radnih mesta ponavlja. Poželjna je neredundantnost podataka, pa je ponavljanja potrebno odbaciti."
   ]
  },
  {
   "cell_type": "code",
   "execution_count": 13,
   "id": "e87a4721",
   "metadata": {},
   "outputs": [
    {
     "data": {
      "image/png": "[encoded data removed]",
      "text/plain": [
       "<Figure size 600x400 with 1 Axes>"
      ]
     },
     "metadata": {
      "needs_background": "light"
     },
     "output_type": "display_data"
    }
   ],
   "source": [
    "# Modul za grafički prikaz podataka\n",
    "from matplotlib import pyplot as plt\n",
    "\n",
    "# Podešavanje modula za prikaz u svesci\n",
    "%matplotlib inline\n",
    "\n",
    "# Povećavanje kvaliteta grafikona\n",
    "plt.rcParams['figure.dpi'] = 100\n",
    "\n",
    "# Određivanje brojeva ponavljanja\n",
    "_, j = unikati([b > 1 for b in brjed])\n",
    "\n",
    "# Predstavljanje raspodele stubićima\n",
    "plt.bar(['jedno pojavljivanje', 'više pojavljivanja'], j)\n",
    "\n",
    "# Naslov grafikona\n",
    "_ = plt.title('Raspodela radnih mesta po broju pojavljivanja')"
   ]
  },
  {
   "cell_type": "markdown",
   "id": "4e94f5d7",
   "metadata": {},
   "source": [
    "Dodatno su analizirana i najčešća ponavljanja. Skoro dvadeset hiljada puta ponavljaju se samo tri različite pozicije: [*chief executive officer*](https://en.wikipedia.org/wiki/Chief_executive_officer) (glavni izvršni direktor) sa nivoom *cxo* (direktor), *associate* (saradnik) sa nedostajućim nivoom i *managing director* (upravni direktor) sa nivoom *director* (upravnik)."
   ]
  },
  {
   "cell_type": "code",
   "execution_count": 14,
   "id": "2abd9637",
   "metadata": {},
   "outputs": [
    {
     "name": "stdout",
     "output_type": "stream",
     "text": [
      "7382 – {\n",
      "  name: chief executive officer,\n",
      "  role: None,\n",
      "  levels: ['cxo'],\n",
      "  sub_role: None\n",
      "}\n",
      "6624 – {\n",
      "  name: associate,\n",
      "  role: None,\n",
      "  levels: [],\n",
      "  sub_role: None\n",
      "}\n",
      "5400 – {\n",
      "  name: managing director,\n",
      "  role: None,\n",
      "  levels: ['director'],\n",
      "  sub_role: None\n",
      "}\n"
     ]
    }
   ],
   "source": [
    "# Indeksi za sortiranje po broju ponavljanja\n",
    "indeksi = np.argsort(brjed)\n",
    "\n",
    "# Sortiranje neredundantnih podataka po broju ponavljanja\n",
    "podjed = podjed[indeksi]\n",
    "brjed = brjed[indeksi]\n",
    "\n",
    "# Ispis tri najčešća redundantna radna mesta\n",
    "for i in range(-1, -4, -1):\n",
    "    print(brjed[i], '–', podjed[i])"
   ]
  },
  {
   "cell_type": "markdown",
   "id": "8f601c17",
   "metadata": {},
   "source": [
    "Nakon [čišćenja](https://en.wikipedia.org/wiki/Data_cleansing) duplikata, dakle, broj od ukupno 611.586 učitanih pozicija svodi se na 64.815 različtih. Međutim, duplikati nisu jedine sporne instance. Kako je ideja da klasifikacioni model nauči nivoe senioriteta (*levels*), beskorisna su sva radna mesta koja nisu obeležena po tom kriterijumu, što su ona koja na tom mestu imaju prazan niz, odnosno niz dužine nula. Dosta je takvih objekata, skoro pa svaki drugi."
   ]
  },
  {
   "cell_type": "code",
   "execution_count": 15,
   "id": "5339d7b1",
   "metadata": {},
   "outputs": [
    {
     "data": {
      "image/png": "[encoded data removed]",
      "text/plain": [
       "<Figure size 600x400 with 1 Axes>"
      ]
     },
     "metadata": {
      "needs_background": "light"
     },
     "output_type": "display_data"
    }
   ],
   "source": [
    "# Predstavljanje raspodele broja nivoa stubićima\n",
    "plt.bar(*unikati([len(p.levels) for p in podjed]))\n",
    "\n",
    "# Naslov grafikona\n",
    "_ = plt.title('Raspodela radnih mesta po broju nivoa')"
   ]
  },
  {
   "cell_type": "markdown",
   "id": "8a7c42d9",
   "metadata": {},
   "source": [
    "Kada se izdvoje samo obeležena radna mesta, dakle ona sa makar jednim nivoom, broj od 64.815 različitih spada na 35.006."
   ]
  },
  {
   "cell_type": "code",
   "execution_count": 16,
   "id": "b0ac0cbd",
   "metadata": {},
   "outputs": [
    {
     "name": "stdout",
     "output_type": "stream",
     "text": [
      "Ukupno učitanih radnih mesta: 611586\n",
      "Ukupno različitih radnih mesta: 64815\n",
      "Ukupno obeleženih radnih mesta: 35006\n"
     ]
    }
   ],
   "source": [
    "# Izdvajanje obeleženih radnih mesta\n",
    "podobel = [p for p in podjed if p.levels]\n",
    "\n",
    "# Izveštavanje o ukupom broju instanci\n",
    "print('Ukupno učitanih radnih mesta:', len(podaci))\n",
    "\n",
    "# Izveštavanje o broju jedinstvenih instanci\n",
    "print('Ukupno različitih radnih mesta:', len(podjed))\n",
    "\n",
    "# Izveštavanje o broju obeleženih instanci\n",
    "print('Ukupno obeleženih radnih mesta:', len(podobel))"
   ]
  },
  {
   "cell_type": "markdown",
   "id": "3a3033fa",
   "metadata": {},
   "source": [
    "Zanimljivo je videti i koja su to radna mesta sa čak četiri nivoa u nizu. Primetno je da je reč o pozicijama koje su u suštini složene. U svakom slučaju, zadatak je primer [višelabelarne klasifikacije](https://en.wikipedia.org/wiki/Multi-label_classification), što znači da se ne traži tačno jedna oznaka, već njihov (neprazan) skup."
   ]
  },
  {
   "cell_type": "code",
   "execution_count": 17,
   "id": "37b1d2e0",
   "metadata": {},
   "outputs": [
    {
     "name": "stdout",
     "output_type": "stream",
     "text": [
      "{\n",
      "  name: co-founder and chief operations officer and senior vice president legal,\n",
      "  role: legal,\n",
      "  levels: ['senior', 'vp', 'owner', 'cxo'],\n",
      "  sub_role: None\n",
      "}\n",
      "{\n",
      "  name: general manager, chief executive officer, senior vice president, us,\n",
      "  role: None,\n",
      "  levels: ['manager', 'senior', 'vp', 'cxo'],\n",
      "  sub_role: None\n",
      "}\n",
      "{\n",
      "  name: senior vice president, director of business development,\n",
      "  role: sales,\n",
      "  levels: ['senior', 'director', 'cxo', 'vp'],\n",
      "  sub_role: business_development\n",
      "}\n"
     ]
    }
   ],
   "source": [
    "# Sortiranje podataka prema broju nivoa\n",
    "podobel.sort(key=lambda p: len(p.levels))\n",
    "\n",
    "# Ispis tri najobeleženija radna mesta\n",
    "for i in range(-1, -4, -1):\n",
    "    print(podobel[i])"
   ]
  },
  {
   "cell_type": "markdown",
   "id": "606450d6",
   "metadata": {},
   "source": [
    "Za kraj analize, korisno je nacrtati raspodelu klasa, kako bi se stekao uvid u balansiranost skupa. Primetno je da je najveći udeo menadžerskih pozicija, dok npr. početničkih ima vrlo malo. Inače, ukupno je deset klasa, što se može videti na priloženom grafikonu sa stubićima: *cxo* (direktor), *director* (upravnik), *entry* (početnik), *manager* (menadžer), *owner* (vlasnik), *partner* (partner), *senior* (senior), *training* (praktikant), *unpaid* (neplaćen/volonter), *vp* (potpredsednik)."
   ]
  },
  {
   "cell_type": "code",
   "execution_count": 18,
   "id": "109f6c81",
   "metadata": {},
   "outputs": [
    {
     "data": {
      "image/png": "[encoded data removed]",
      "text/plain": [
       "<Figure size 600x400 with 1 Axes>"
      ]
     },
     "metadata": {
      "needs_background": "light"
     },
     "output_type": "display_data"
    }
   ],
   "source": [
    "# Crtanje raspodele radnih mesta po klasama\n",
    "def raspodela(skup):\n",
    "    # Inicijalno prazan niz klasa\n",
    "    klase = []\n",
    "\n",
    "    # Dohvatanje klasa svih radnih mesta\n",
    "    for p in skup:\n",
    "        klase.extend(p.levels)\n",
    "\n",
    "    # Predstavljanje raspodele broja nivoa stubićima\n",
    "    plt.bar(*unikati(klase))\n",
    "\n",
    "    # Rotacija naziva kako ne bi bilo preklapanja\n",
    "    plt.xticks(rotation=30)\n",
    "\n",
    "    # Naslov grafikona\n",
    "    _ = plt.title('Raspodela radnih mesta po klasama')\n",
    "\n",
    "# Raspodela radnih mesta u celom skupu\n",
    "raspodela(podobel)"
   ]
  },
  {
   "cell_type": "markdown",
   "id": "2f1dc08e",
   "metadata": {},
   "source": [
    "## 3. Normalizacija teksta [⮭]<a id=\"par:norm\"></a>\n",
    "\n",
    "[⮭]: #par:toc"
   ]
  },
  {
   "cell_type": "markdown",
   "id": "75328031",
   "metadata": {},
   "source": [
    "Normalizacija igra značajnu ulogu u klasifikaciji teksta. Poželjno je sve nazive radnih mesta učiniti što uniformnijim. Prvi korak u tome jeste [segmentacija teksta](https://en.wikipedia.org/wiki/Text_segmentation), što se u ovom slučaju svodi na izdvajanje reči i interpunkcije. Ovako izdvojene celine nazivaju se tokeni i mogu se dobiti pomoću modula [*NLTK*](https://www.nltk.org/)."
   ]
  },
  {
   "cell_type": "code",
   "execution_count": 19,
   "id": "3eb9ca10",
   "metadata": {},
   "outputs": [],
   "source": [
    "# Modul za rad sa tekstom\n",
    "import nltk\n",
    "\n",
    "# Tokenizacija svakog radnom mesta\n",
    "for p in podobel:\n",
    "    p.tokeni = nltk.tokenize.word_tokenize(p.name)"
   ]
  },
  {
   "cell_type": "code",
   "execution_count": 20,
   "id": "d5041cf9",
   "metadata": {},
   "outputs": [
    {
     "name": "stdout",
     "output_type": "stream",
     "text": [
      "general manager - middle east\n",
      "['general', 'manager', '-', 'middle', 'east']\n"
     ]
    }
   ],
   "source": [
    "# Ispis prvog radnog mesta\n",
    "print(podobel[0].name)\n",
    "print(podobel[0].tokeni)"
   ]
  },
  {
   "cell_type": "code",
   "execution_count": 21,
   "id": "7a09b06e",
   "metadata": {},
   "outputs": [
    {
     "name": "stdout",
     "output_type": "stream",
     "text": [
      "co-founder and chief operations officer and senior vice president legal\n",
      "['co-founder', 'and', 'chief', 'operations', 'officer', 'and', 'senior', 'vice', 'president', 'legal']\n"
     ]
    }
   ],
   "source": [
    "# Ispis poslednjeg radnog mesta\n",
    "print(podobel[-1].name)\n",
    "print(podobel[-1].tokeni)"
   ]
  },
  {
   "cell_type": "markdown",
   "id": "2c4a0c08",
   "metadata": {},
   "source": [
    "Dalje, dobro je da je svaka reč svedena na neki osnovni oblik. Ovo je moguće uraditi [stemovanjem](https://en.wikipedia.org/wiki/Stemming), što je proces koji heuristički pokušava da dođe do osnove reči. Alternativno, može se precizno pronaći koren (lema, rečnička forma) reči procesom [lematizacije](https://en.wikipedia.org/wiki/Lemmatisation). Oba su izvodljiva u učitanoj biblioteci *NLTK*. Važno je samo napomenuti da lematizator zahteva i vrstu reči kao argument, pa je za te potrebe iskorišćen ugrađeni obeleživač vrste reči ([*POS tagger*](https://en.wikipedia.org/wiki/Part-of-speech_tagging))."
   ]
  },
  {
   "cell_type": "code",
   "execution_count": 22,
   "id": "5afadf53",
   "metadata": {},
   "outputs": [],
   "source": [
    "# Modul za rad sa naprednim rečnikom\n",
    "from collections import defaultdict\n",
    "\n",
    "# Rečnik koji je podrazumevano imenica\n",
    "mapa = defaultdict(lambda: nltk.corpus.wordnet.NOUN)\n",
    "\n",
    "# Popunjavanje ostalih skraćenica\n",
    "mapa['J'] = nltk.corpus.wordnet.ADJ\n",
    "mapa['S'] = nltk.corpus.wordnet.ADJ_SAT\n",
    "mapa['V'] = nltk.corpus.wordnet.VERB\n",
    "mapa['R'] = nltk.corpus.wordnet.ADV\n",
    "\n",
    "# Funkcija za tagovanje\n",
    "tag = lambda j: mapa[j[0]]\n",
    "\n",
    "# Instanciranje lematizatora\n",
    "lema = nltk.stem.WordNetLemmatizer()\n",
    "\n",
    "# Određivanje vrste reči svakog radnog mesta\n",
    "for p in podobel:\n",
    "    pos = nltk.pos_tag(p.tokeni)\n",
    "    \n",
    "    # Lematizacija svakog tokena\n",
    "    p.toklem = [lema.lemmatize(i, tag(j)) for i, j in pos]"
   ]
  },
  {
   "cell_type": "code",
   "execution_count": 23,
   "id": "146a10e8",
   "metadata": {},
   "outputs": [
    {
     "name": "stdout",
     "output_type": "stream",
     "text": [
      "global customer insights lead\n",
      "['global', 'customer', 'insights', 'lead']\n",
      "['global', 'customer', 'insight', 'lead']\n"
     ]
    }
   ],
   "source": [
    "# Ispis petstotog radnog mesta\n",
    "print(podobel[499].name)\n",
    "print(podobel[499].tokeni)\n",
    "print(podobel[499].toklem)"
   ]
  },
  {
   "cell_type": "code",
   "execution_count": 24,
   "id": "cb343125",
   "metadata": {},
   "outputs": [
    {
     "name": "stdout",
     "output_type": "stream",
     "text": [
      "co-founder and chief operations officer and senior vice president legal\n",
      "['co-founder', 'and', 'chief', 'operations', 'officer', 'and', 'senior', 'vice', 'president', 'legal']\n",
      "['co-founder', 'and', 'chief', 'operation', 'officer', 'and', 'senior', 'vice', 'president', 'legal']\n"
     ]
    }
   ],
   "source": [
    "# Ispis poslednjeg radnog mesta\n",
    "print(podobel[-1].name)\n",
    "print(podobel[-1].tokeni)\n",
    "print(podobel[-1].toklem)"
   ]
  },
  {
   "cell_type": "markdown",
   "id": "f40047da",
   "metadata": {},
   "source": [
    "Takođe, dobro je da je u opticaju neki manji skup karaktera, kako bi se dodatno smanjio broj jedinstvenih tokena. Primera radi, to mogu biti [*ASCII*](https://en.wikipedia.org/wiki/ASCII) karakteri, i to samo mala slova engleske latinice i znaci interpunkcije unutar reči (npr. *co-founder*). U redu je obrisati preostalu samostalnu interpunkciju."
   ]
  },
  {
   "cell_type": "code",
   "execution_count": 25,
   "id": "895ff353",
   "metadata": {},
   "outputs": [],
   "source": [
    "# Modul sa posebnim niskama\n",
    "import string\n",
    "\n",
    "# Provera da li su sve mala ASCII slova\n",
    "def aski(t):\n",
    "    for c in t:\n",
    "        if c not in string.ascii_lowercase and c not in string.punctuation:\n",
    "            return False\n",
    "    return True\n",
    "\n",
    "# Izbacivanje svega što nisu mala ASCII slova\n",
    "for p in podobel:\n",
    "    p.tokpunk = [t for t in p.toklem if t not in string.punctuation and aski(t)]"
   ]
  },
  {
   "cell_type": "code",
   "execution_count": 26,
   "id": "2e2e5a6f",
   "metadata": {},
   "outputs": [
    {
     "name": "stdout",
     "output_type": "stream",
     "text": [
      "general manager - middle east\n",
      "['general', 'manager', '-', 'middle', 'east']\n",
      "['general', 'manager', 'middle', 'east']\n"
     ]
    }
   ],
   "source": [
    "# Ispis prvog radnog mesta\n",
    "print(podobel[0].name)\n",
    "print(podobel[0].tokeni)\n",
    "print(podobel[0].tokpunk)"
   ]
  },
  {
   "cell_type": "code",
   "execution_count": 27,
   "id": "c104e561",
   "metadata": {},
   "outputs": [
    {
     "name": "stdout",
     "output_type": "stream",
     "text": [
      "co-founder and chief operations officer and senior vice president legal\n",
      "['co-founder', 'and', 'chief', 'operations', 'officer', 'and', 'senior', 'vice', 'president', 'legal']\n",
      "['co-founder', 'and', 'chief', 'operation', 'officer', 'and', 'senior', 'vice', 'president', 'legal']\n"
     ]
    }
   ],
   "source": [
    "# Ispis poslednjeg radnog mesta\n",
    "print(podobel[-1].name)\n",
    "print(podobel[-1].tokeni)\n",
    "print(podobel[-1].tokpunk)"
   ]
  },
  {
   "cell_type": "markdown",
   "id": "607b53e7",
   "metadata": {},
   "source": [
    "Za kraj, poželjno je ukloniti i takozvane [stop reči](https://en.wikipedia.org/wiki/Stop_word), za koje se očekuje da ne mogu doprineti klasifikaciji radnih mesta. To su npr. zamenice, veznici i slične leme bez semantike u kontekstu senioriteta. One bi u nastavku bespotrebno opteretile klasifikacione modele, a ne bi doprinele generalizaciji i kvalitetu."
   ]
  },
  {
   "cell_type": "code",
   "execution_count": 28,
   "id": "ca2db380",
   "metadata": {},
   "outputs": [],
   "source": [
    "# Dohvatanje stop reči u engleskom jeziku\n",
    "stop = nltk.corpus.stopwords.words('english')\n",
    "\n",
    "# Izbacivanje svih stop reči u engleskom jeziku\n",
    "for p in podobel:\n",
    "    p.tokstop = [t for t in p.tokpunk if t not in stop]"
   ]
  },
  {
   "cell_type": "code",
   "execution_count": 29,
   "id": "428e361d",
   "metadata": {},
   "outputs": [
    {
     "name": "stdout",
     "output_type": "stream",
     "text": [
      "general manager - middle east\n",
      "['general', 'manager', '-', 'middle', 'east']\n",
      "['general', 'manager', 'middle', 'east']\n"
     ]
    }
   ],
   "source": [
    "# Ispis prvog radnog mesta\n",
    "print(podobel[0].name)\n",
    "print(podobel[0].tokeni)\n",
    "print(podobel[0].tokstop)"
   ]
  },
  {
   "cell_type": "code",
   "execution_count": 30,
   "id": "1a052b2a",
   "metadata": {},
   "outputs": [
    {
     "name": "stdout",
     "output_type": "stream",
     "text": [
      "co-founder and chief operations officer and senior vice president legal\n",
      "['co-founder', 'and', 'chief', 'operations', 'officer', 'and', 'senior', 'vice', 'president', 'legal']\n",
      "['co-founder', 'chief', 'operation', 'officer', 'senior', 'vice', 'president', 'legal']\n"
     ]
    }
   ],
   "source": [
    "# Ispis poslednjeg radnog mesta\n",
    "print(podobel[-1].name)\n",
    "print(podobel[-1].tokeni)\n",
    "print(podobel[-1].tokstop)"
   ]
  },
  {
   "cell_type": "markdown",
   "id": "f94e1018",
   "metadata": {},
   "source": [
    "Spajanjem konačnog niza tokena može se dobiti nova tekstualna reprezentacija radnog mesta, čisto kompletnosti radi."
   ]
  },
  {
   "cell_type": "code",
   "execution_count": 31,
   "id": "ecfdc9aa",
   "metadata": {},
   "outputs": [],
   "source": [
    "# Spajanje konačnog niza tokena u novo ime\n",
    "for p in podobel:\n",
    "    p.newname = ' '.join(p.tokstop)"
   ]
  },
  {
   "cell_type": "code",
   "execution_count": 32,
   "id": "970a3732",
   "metadata": {},
   "outputs": [
    {
     "name": "stdout",
     "output_type": "stream",
     "text": [
      "general manager - middle east\n",
      "general manager middle east\n"
     ]
    }
   ],
   "source": [
    "# Ispis prvog radnog mesta\n",
    "print(podobel[0].name)\n",
    "print(podobel[0].newname)"
   ]
  },
  {
   "cell_type": "code",
   "execution_count": 33,
   "id": "06833849",
   "metadata": {},
   "outputs": [
    {
     "name": "stdout",
     "output_type": "stream",
     "text": [
      "co-founder and chief operations officer and senior vice president legal\n",
      "co-founder chief operation officer senior vice president legal\n"
     ]
    }
   ],
   "source": [
    "# Ispis poslednjeg radnog mesta\n",
    "print(podobel[-1].name)\n",
    "print(podobel[-1].newname)"
   ]
  },
  {
   "cell_type": "markdown",
   "id": "0e2bc3be",
   "metadata": {},
   "source": [
    "Pre preduzimanja daljih koraka, zanimljivo je grafički predstaviti i raspodelu broja tokena. Ukupno ih je 153.495, ali samo 7903 različita."
   ]
  },
  {
   "cell_type": "code",
   "execution_count": 34,
   "id": "43172828",
   "metadata": {},
   "outputs": [
    {
     "name": "stdout",
     "output_type": "stream",
     "text": [
      "Ukupno tokena: 153495\n",
      "Različitih tokena: 7903\n"
     ]
    }
   ],
   "source": [
    "# Inicijalno prazan niz tokena\n",
    "tokeni = []\n",
    "\n",
    "# Dohvatanje svih tokena\n",
    "for p in podobel:\n",
    "    tokeni.extend(p.tokstop)\n",
    "\n",
    "# Određivanje jedinstvenih tokena\n",
    "tokjed, brjed = unikati(tokeni)\n",
    "\n",
    "# Izveštavanje o ukupnom broju tokena\n",
    "print('Ukupno tokena:', len(tokeni))\n",
    "\n",
    "# Izveštavanje o broju različitih tokena\n",
    "print('Različitih tokena:', len(tokjed))"
   ]
  },
  {
   "cell_type": "code",
   "execution_count": 35,
   "id": "222f6af9",
   "metadata": {},
   "outputs": [
    {
     "data": {
      "image/png": "[encoded data removed]",
      "text/plain": [
       "<Figure size 600x400 with 1 Axes>"
      ]
     },
     "metadata": {
      "needs_background": "light"
     },
     "output_type": "display_data"
    }
   ],
   "source": [
    "# Indeksi za sortiranje po broju ponavljanja\n",
    "indeksi = np.argsort(brjed)\n",
    "\n",
    "# Sortiranje jedinstvenih tokena po broju ponavljanja\n",
    "tokjed = tokjed[indeksi]\n",
    "brjed = brjed[indeksi]\n",
    "\n",
    "# Crtanje deset najčešćih tokena\n",
    "plt.bar(tokjed[-10:], brjed[-10:])\n",
    "\n",
    "# Rotacija naziva kako ne bi bilo preklapanja\n",
    "plt.xticks(rotation=50)\n",
    "\n",
    "# Naslov grafikona\n",
    "_ = plt.title('Deset najčešćih tokena')"
   ]
  },
  {
   "cell_type": "markdown",
   "id": "de156f7f",
   "metadata": {},
   "source": [
    "Značajan je i podataka o tome da li su neki tokeni jedinstveni. Takvih je više od pola i oni nemaju značaja u klasifikaciji zasnovanoj na rečima."
   ]
  },
  {
   "cell_type": "code",
   "execution_count": 36,
   "id": "8a1db112",
   "metadata": {},
   "outputs": [
    {
     "data": {
      "image/png": "[encoded data removed]",
      "text/plain": [
       "<Figure size 600x400 with 1 Axes>"
      ]
     },
     "metadata": {
      "needs_background": "light"
     },
     "output_type": "display_data"
    }
   ],
   "source": [
    "# Određivanje brojeva ponavljanja\n",
    "_, j = unikati([b > 1 for b in brjed])\n",
    "\n",
    "# Predstavljanje raspodele stubićima\n",
    "plt.bar(['jedno pojavljivanje', 'više pojavljivanja'], j)\n",
    "\n",
    "# Naslov grafikona\n",
    "_ = plt.title('Raspodela tokena po broju pojavljivanja')"
   ]
  },
  {
   "cell_type": "markdown",
   "id": "c6e480b3",
   "metadata": {},
   "source": [
    "Zanimljivo je nacrtati i raspodelu dužina imena radnih mesta, odnosno broja tokena u konačnom lematizovanom i pročišćenom nizu."
   ]
  },
  {
   "cell_type": "code",
   "execution_count": 37,
   "id": "42ab087f",
   "metadata": {},
   "outputs": [
    {
     "data": {
      "image/png": "[encoded data removed]",
      "text/plain": [
       "<Figure size 600x400 with 1 Axes>"
      ]
     },
     "metadata": {
      "needs_background": "light"
     },
     "output_type": "display_data"
    }
   ],
   "source": [
    "# Inicijalno prazan niz dužina\n",
    "lens = []\n",
    "\n",
    "# Dohvatanje svih tokena\n",
    "for p in podobel:\n",
    "    lens.append(len(p.tokstop))\n",
    "\n",
    "# Predstavljanje raspodele dužine stubićima\n",
    "plt.bar(*unikati(lens))\n",
    "\n",
    "# Naslov grafikona\n",
    "_ = plt.title('Raspodela radnih mesta po broju tokena')"
   ]
  },
  {
   "cell_type": "markdown",
   "id": "705071b3",
   "metadata": {},
   "source": [
    "## 4. Klasifikaciona pravila [⮭]<a id=\"par:prav\"></a>\n",
    "\n",
    "[⮭]: #par:toc"
   ]
  },
  {
   "cell_type": "markdown",
   "id": "4e830020",
   "metadata": {},
   "source": [
    "Imena su sada normalizovana. To, međutim, nije dovoljno kako bi bila prosleđena klasifikacionim modelima na obučavanje. Problem je što modeli mahom ne prihvataju tekst (niske) ili nizove tokena, već isključivo reprezentaciju u vidu vektora fiksne dužine. To znači da je imena neophodno vektorizovati."
   ]
  },
  {
   "cell_type": "markdown",
   "id": "09deca71",
   "metadata": {},
   "source": [
    "Postavlja se pitanje kako od teksta napraviti vektor. Ideja se može pronaći u simboličkom *NLP*-ju, kao prvoj etapi razvoja obrade prirodnih jezika. On zagovara upotrebu [klasifikacionih pravila](https://en.wikipedia.org/wiki/Classification_rule), koja direktno rade nad tekstom ili nizom tokena. Npr. može se pretpostaviti da svako ime koje sadrži reč *manager* predstavlja jednog menadžera (klasa *manager*), dok svaki potpredsednik (klasa *vp*) sadrži reč *vice*. Ovakva [pravila pridruživanja](https://en.wikipedia.org/wiki/Association_rule_learning) mogu se i automatski pronaći."
   ]
  },
  {
   "cell_type": "markdown",
   "id": "70fcdb83",
   "metadata": {},
   "source": [
    "Uspešnost pravila ocenjuje se [dvema merama](https://en.wikipedia.org/wiki/Precision_and_recall): odzivom, koji je udeo prepoznatih instanci ciljane klase, i preciznošću, koja je udeo tačno prepoznatih."
   ]
  },
  {
   "cell_type": "markdown",
   "id": "1b850aa4",
   "metadata": {},
   "source": [
    "$$ \\text{odziv} = \\frac{|\\text{dohvaćeni ciljane klase}|}{|\\text{svi ciljane klase}|} \\; \\; \\; \\; \\; \\; \\text{preciznost} = \\frac{|\\text{dohvaćeni ciljane klase}|}{|\\text{svi dohvaćeni}|} $$"
   ]
  },
  {
   "cell_type": "code",
   "execution_count": 38,
   "id": "5cf12677",
   "metadata": {},
   "outputs": [],
   "source": [
    "# Funkcija koja ocenjuje predloženo pravilo\n",
    "def oceni_pravilo(šablon, klasa):\n",
    "    # Ispis predloženog pravila\n",
    "    print('Pravilo:', šablon, '→', klasa, end='\\n\\n')\n",
    "    \n",
    "    # Inicijalno prazan niz klasa dohvaćenih instanci\n",
    "    klase = []\n",
    "    \n",
    "    # Dohvatanje svih instanci prema pravilu\n",
    "    for p in podobel:\n",
    "        if šablon in p.newname:\n",
    "            klase.append(klasa in p.levels)\n",
    "    \n",
    "    # Računanje brojioca i imenilaca mera\n",
    "    dck = sum(klase)\n",
    "    sck = sum(klasa in p.levels for p in podobel)\n",
    "    sd = len(klase)\n",
    "    \n",
    "    # Ispis brojioca i imenilaca mera\n",
    "    print('Dohvaćeni ciljane klase:', dck)\n",
    "    print('Svi ciljane klase:', sck)\n",
    "    print('Svi dohvaćeni:', sd, end='\\n\\n')\n",
    "    \n",
    "    # Računanje odziva i preciznosti\n",
    "    odziv = dck / sck\n",
    "    preciznost = dck / sd\n",
    "    \n",
    "    # Ispis odziva i preciznosti\n",
    "    print('Odziv pravila:', odziv)\n",
    "    print('Preciznost pravila:', preciznost, end='\\n\\n')\n",
    "    \n",
    "    # Ispis kontraprimera\n",
    "    print('Kontraprimeri:')\n",
    "    \n",
    "    # Kontraprimer koji smanjuje preciznost\n",
    "    for p in podobel:\n",
    "        if šablon in p.newname and klasa not in p.levels:\n",
    "            print(p.name, p.levels)\n",
    "            break\n",
    "    \n",
    "    # Kontraprimer koji smanjuje odziv\n",
    "    for p in podobel:\n",
    "        if šablon not in p.newname and klasa in p.levels:\n",
    "            print(p.name, p.levels)\n",
    "            break"
   ]
  },
  {
   "cell_type": "code",
   "execution_count": 39,
   "id": "13f6c8a6",
   "metadata": {},
   "outputs": [
    {
     "name": "stdout",
     "output_type": "stream",
     "text": [
      "Pravilo: manager → manager\n",
      "\n",
      "Dohvaćeni ciljane klase: 10375\n",
      "Svi ciljane klase: 12925\n",
      "Svi dohvaćeni: 10462\n",
      "\n",
      "Odziv pravila: 0.8027079303675049\n",
      "Preciznost pravila: 0.9916841904033645\n",
      "\n",
      "Kontraprimeri:\n",
      "senior customer and sales advisor and account manager ['senior']\n",
      "games 2015 middle east - team lead, main exhibition ['manager']\n"
     ]
    }
   ],
   "source": [
    "# Primer pravila visoke preciznosti\n",
    "oceni_pravilo('manager', 'manager')"
   ]
  },
  {
   "cell_type": "code",
   "execution_count": 40,
   "id": "035eaa84",
   "metadata": {},
   "outputs": [
    {
     "name": "stdout",
     "output_type": "stream",
     "text": [
      "Pravilo: vice → vp\n",
      "\n",
      "Dohvaćeni ciljane klase: 4376\n",
      "Svi ciljane klase: 4386\n",
      "Svi dohvaćeni: 5765\n",
      "\n",
      "Odziv pravila: 0.9977200182398541\n",
      "Preciznost pravila: 0.7590633130962706\n",
      "\n",
      "Kontraprimeri:\n",
      "general manager - australian sales and service ['manager']\n",
      "mergers and acquisitions investment banking, seed investing ['vp']\n"
     ]
    }
   ],
   "source": [
    "# Primer pravila visokog odziva\n",
    "oceni_pravilo('vice', 'vp')"
   ]
  },
  {
   "cell_type": "code",
   "execution_count": 41,
   "id": "914ef013",
   "metadata": {},
   "outputs": [
    {
     "name": "stdout",
     "output_type": "stream",
     "text": [
      "Pravilo: senior → senior\n",
      "\n",
      "Dohvaćeni ciljane klase: 7067\n",
      "Svi ciljane klase: 7075\n",
      "Svi dohvaćeni: 7073\n",
      "\n",
      "Odziv pravila: 0.99886925795053\n",
      "Preciznost pravila: 0.9991517036618125\n",
      "\n",
      "Kontraprimeri:\n",
      "glenn myles,senior managing director head of soverign wealth funds ['director']\n",
      "campaign alliances manager ['senior']\n"
     ]
    }
   ],
   "source": [
    "# Primer skoro savršenog pravila\n",
    "oceni_pravilo('senior', 'senior')"
   ]
  },
  {
   "cell_type": "markdown",
   "id": "0aa78cb0",
   "metadata": {},
   "source": [
    "Primetno je da pravila mogu biti vrlo precizna, pa i postići visoki odziv. Ona, međutim, zahtevaju stručnjake koji bi ih pisali i održavali, tako da se uglavnom ne koriste u praksi, osim u posebnim slučajevima ili u kombinaciji sa drugim metodama. Savremeni pristupi zasnovani su na automatskom učenju pravila ili makar njihovoj ugradnji u vektorsku reprezentaciju teksta koji se klasifikuje. Pravila, dakle, mogu biti polazna tačka za pravljenje vektora od teksta."
   ]
  },
  {
   "cell_type": "markdown",
   "id": "7fb3bdc1",
   "metadata": {},
   "source": [
    "Ugradnja pravila u vektorsku reprezentaciju teksta može biti ručna, tako što se svojstva (karakteristike, [*features*](https://en.wikipedia.org/wiki/Feature_%28machine_learning%29)) izgrađuju na osnovu predefinisanih šablona. Prema prethodnim pravilima, mogla bi se [napraviti](https://en.wikipedia.org/wiki/Feature_engineering) istinitosna svojstva `sadrži(manager)` i `sadrži(senior)` koja bi bila `True` (`1`) za imena koja sadrže reči (tokene, podniske) *manager*, odnosno *vice*, a `False` (`0`) za ostale instance. Slično se mogu napraviti i druga ručno smišljena važna svojstva (detalji se mogu videti [ovde](https://towardsdatascience.com/job-title-analysis-in-python-and-nltk-8c7ba4fe4ec6)), npr. ona koja pamte prvu i poslednju reč ili broj tokena. Ovakve karakteristike uglavnom su diskretne, mada to ne mora biti slučaj."
   ]
  },
  {
   "cell_type": "markdown",
   "id": "007946e0",
   "metadata": {},
   "source": [
    "## 5. Retka vektorizacija [⮭]<a id=\"par:retk\"></a>\n",
    "\n",
    "[⮭]: #par:toc"
   ]
  },
  {
   "cell_type": "markdown",
   "id": "b41de6fe",
   "metadata": {},
   "source": [
    "Prethodno pomenuti način vektorizacije teksta gradi takozvane retke reprezentacije. To znači da u njima velika većina karakteristika ima vrednost `False` (`0`), a tek poneka `True` (`1`). Osim toga, broj svojstava je često veoma veliki, što otežava obučavanje modela. Ipak, ovakve reprezentacije teksta su vrlo korišćene i uspešne. U stvarnosti, međutim, ne grade se ručno, već se koriste različiti vektorizatori, koji izgrađuju različite vrste retkih reprezentacija. Vektorizatori grade kostur reprezentacije na osnovu skupa za obučavanje, pa je za početak neophodno podeliti pripremljeni skup radnih mesta."
   ]
  },
  {
   "cell_type": "code",
   "execution_count": 42,
   "id": "66ed6023",
   "metadata": {},
   "outputs": [
    {
     "name": "stdout",
     "output_type": "stream",
     "text": [
      "Radnih mesta u skupu za obučavanje: 26254\n",
      "Radnih mesta u skupu za proveru: 8752\n"
     ]
    }
   ],
   "source": [
    "# Modul za podelu na skup za obučavanje i proveru\n",
    "from sklearn.model_selection import train_test_split\n",
    "\n",
    "# Podela podataka na dva odvojena dela\n",
    "train, test = train_test_split(podobel, random_state=0)\n",
    "\n",
    "# Ispis broja instanci u odvojenim delovima\n",
    "print('Radnih mesta u skupu za obučavanje:', len(train))\n",
    "print('Radnih mesta u skupu za proveru:', len(test))"
   ]
  },
  {
   "cell_type": "markdown",
   "id": "e72d839e",
   "metadata": {},
   "source": [
    "Značajno je utvrditi da nije došlo do poremećaja raspodele klasa nakon podele, odnosno da je raspodela na skupu za obučavanje i proveru identična."
   ]
  },
  {
   "cell_type": "code",
   "execution_count": 43,
   "id": "acef321a",
   "metadata": {},
   "outputs": [
    {
     "data": {
      "image/png": "[encoded data removed]",
      "text/plain": [
       "<Figure size 600x400 with 1 Axes>"
      ]
     },
     "metadata": {
      "needs_background": "light"
     },
     "output_type": "display_data"
    }
   ],
   "source": [
    "# Raspodela radnih mesta u trening skupu\n",
    "raspodela(train)"
   ]
  },
  {
   "cell_type": "code",
   "execution_count": 44,
   "id": "a8205449",
   "metadata": {},
   "outputs": [
    {
     "data": {
      "image/png": "[encoded data removed]",
      "text/plain": [
       "<Figure size 600x400 with 1 Axes>"
      ]
     },
     "metadata": {
      "needs_background": "light"
     },
     "output_type": "display_data"
    }
   ],
   "source": [
    "# Raspodela radnih mesta u test skupu\n",
    "raspodela(test)"
   ]
  },
  {
   "cell_type": "markdown",
   "id": "deebad16",
   "metadata": {},
   "source": [
    "Poznata vrsta reprezetancije jesu [*n*-gramski](https://en.wikipedia.org/wiki/N-gram) modeli. Naime, mogu se posmatrati sve moguće susedne *n*-torke nekih jedinica (reči, karaktera ili čak bajtova) koji postoje, pri čemu svaka *n*-torka predstavlja jedno svojstvo. Ovakvi modeli daju dobre rezultate u pojedinim primenama, kao što je određivanje jezika na kom je tekst napisan. Dobra strana im je što što uzimaju u obzir raspored jedinica, ali dobijeni vektori, s druge strane, mogu biti preveliki i previše retki."
   ]
  },
  {
   "cell_type": "markdown",
   "id": "23cd7714",
   "metadata": {},
   "source": [
    "<img src=\"../slike/n-gram.png\" alt=\"Ilustracija n-gramskih modela\" width=\"55%\"/>"
   ]
  },
  {
   "cell_type": "markdown",
   "id": "dabdd69e",
   "metadata": {},
   "source": [
    "*N*-gramski modeli sa velikom vrednošću parametra *n* i/ili sa sitnim jedinicama (karakterima ili bajtovima) ipak se nešto ređe koriste. Umesto njih, u upotrebi je [vreća reči](https://en.wikipedia.org/wiki/Bag-of-words_model), koja odgovara unigramskom (*n*-gramskom za $n = 1$) modelu nad rečima. Tekst se u ovom modelu predstavlja vektorom kod koga je svako svojstvo jedna reč iz rečnika, a njegova vrednost zavisi od pojavljivanja te reči u tekstu. Ukoliko se reč ne pojavljuje, vrednost vektora na tom mestu je `0` ili `False`, dok je u suprotnom `1` ili `True` ili pak tačan broj pojavljivanja (nenegativan ceo broj). Ovaj model efektivno zanemaruje položaj i odnose reči u tekstu. Može se primetiti da ovaj princip umnogome odgovara već predstavljenom izdvajanju svojstava na osnovu pravila, odnosno prefedefinisanih šablona."
   ]
  },
  {
   "cell_type": "markdown",
   "id": "46dff9a4",
   "metadata": {},
   "source": [
    "<img src=\"../slike/bow.png\" alt=\"Ilustracija vreće reči\" width=\"55%\"/>"
   ]
  },
  {
   "cell_type": "code",
   "execution_count": 45,
   "id": "ab3a7772",
   "metadata": {},
   "outputs": [],
   "source": [
    "# Modul za rad sa vrećom reći\n",
    "from sklearn.feature_extraction.text import CountVectorizer\n",
    "\n",
    "# Instanciranje vektorizatora\n",
    "bow = CountVectorizer(min_df=3, binary=True)\n",
    "\n",
    "# Obučavanje na skupu za trening\n",
    "_ = bow.fit([p.newname for p in train])"
   ]
  },
  {
   "cell_type": "code",
   "execution_count": 46,
   "id": "0cd8eb14",
   "metadata": {},
   "outputs": [
    {
     "name": "stdout",
     "output_type": "stream",
     "text": [
      "1889 ['aadvantage' 'ab' 'abm' ... 'zonal' 'zone' 'zynga']\n"
     ]
    }
   ],
   "source": [
    "# Ispis naučenih svojstava\n",
    "print(len(bow.get_feature_names_out()),\n",
    "      bow.get_feature_names_out())"
   ]
  },
  {
   "cell_type": "code",
   "execution_count": 47,
   "id": "87468552",
   "metadata": {},
   "outputs": [
    {
     "name": "stdout",
     "output_type": "stream",
     "text": [
      "  (0, 842)\t1\n",
      "  (0, 981)\t1\n",
      "  (0, 1430)\t1\n",
      "  (0, 1465)\t1\n"
     ]
    }
   ],
   "source": [
    "# Ispis kodiranja prve instance\n",
    "print(bow.transform([train[0].newname]))"
   ]
  },
  {
   "cell_type": "markdown",
   "id": "d39462c7",
   "metadata": {},
   "source": [
    "Pored binarnog predstavljanja ili tačnog broja pojavljivanja (frekvencije) reči, često se koristi i takozvana [*tf-idf*](https://en.wikipedia.org/wiki/Tf%E2%80%93idf) (*term frequency–inverse document frequency*) frekvencija, koja bi se na srpskom mogla nazvati merom *fa-ifd* (frekvencija atributa, inverzna frekvencija dokumenta). Ova statistika svedoči o značaju reči umesto o prostom broju pojavljivanja. Direktno je srazmerna broju pojavljivanja reči u datom dokumentu za koji se izračunava, a obrnuto srazmerna ukupnom broju dokumenata koji sadrže tu reč. Tako su otežane česte reči u nekom tekstu, ali su olakšane one koje se nalaze u mnogim različitim tekstovima."
   ]
  },
  {
   "cell_type": "markdown",
   "id": "15a58e6f",
   "metadata": {},
   "source": [
    "<img src=\"../slike/tf-idf.jpeg\" alt=\"Ilustracija tf-idf frekvencije\" width=\"55%\"/>"
   ]
  },
  {
   "cell_type": "code",
   "execution_count": 48,
   "id": "6be80e43",
   "metadata": {},
   "outputs": [],
   "source": [
    "# Modul za rad sa tf-idf\n",
    "from sklearn.feature_extraction.text import TfidfVectorizer\n",
    "\n",
    "# Instanciranje vektorizatora\n",
    "tfidf = TfidfVectorizer(min_df=3)\n",
    "\n",
    "# Obučavanje na skupu za trening\n",
    "_ = tfidf.fit([p.newname for p in train])"
   ]
  },
  {
   "cell_type": "code",
   "execution_count": 49,
   "id": "75f54c64",
   "metadata": {},
   "outputs": [
    {
     "name": "stdout",
     "output_type": "stream",
     "text": [
      "1889 ['aadvantage' 'ab' 'abm' ... 'zonal' 'zone' 'zynga']\n"
     ]
    }
   ],
   "source": [
    "# Ispis naučenih svojstava\n",
    "print(len(tfidf.get_feature_names_out()),\n",
    "      tfidf.get_feature_names_out())"
   ]
  },
  {
   "cell_type": "code",
   "execution_count": 50,
   "id": "3350c35a",
   "metadata": {},
   "outputs": [
    {
     "name": "stdout",
     "output_type": "stream",
     "text": [
      "  (0, 1465)\t0.5102092564825814\n",
      "  (0, 1430)\t0.5011010757721288\n",
      "  (0, 981)\t0.47808558955208313\n",
      "  (0, 842)\t0.5099199893337616\n"
     ]
    }
   ],
   "source": [
    "# Ispis kodiranja prve instance\n",
    "print(tfidf.transform([train[0].newname]))"
   ]
  },
  {
   "cell_type": "markdown",
   "id": "cc2a0735",
   "metadata": {},
   "source": [
    "## 6. Gusta vektorizacija [⮭]<a id=\"par:gust\"></a>\n",
    "\n",
    "[⮭]: #par:toc"
   ]
  },
  {
   "cell_type": "markdown",
   "id": "a8f5d73a",
   "metadata": {},
   "source": [
    "Upotreba retkih reprezentacija uz metode mašinskog učenja odlika je statističkog *NLP*-ja, kao druge etape razvoja obrade prirodnih jezika. U aktuelnoj, trećoj etapi, fokus je na dubokom učenju i gustim reprezentacijama. Za razliku od dosad razmatranih vektora, koji su izrazito dugački (na konkretnom primeru: 1889, po jedan atribut za svaku različitu reč u trening skupu), ali retki (na konkretnom primeru: najviše desetak nenula vrednosti), nove reprezentacije imaju znatno manji broj karakteristika realnog tipa, pri čemu nijedna nije nula. Osmišljeni su tako da su [kosinusno](https://en.wikipedia.org/wiki/Cosine_similarity) sličniji vektori koji opisuju tekstove iz istih klasa."
   ]
  },
  {
   "cell_type": "markdown",
   "id": "a6f01ed3",
   "metadata": {},
   "source": [
    "<img src=\"../slike/cosine.png\" alt=\"Ilustracija kosinusne sličnosti\" width=\"55%\"/>"
   ]
  },
  {
   "cell_type": "markdown",
   "id": "9073fab8",
   "metadata": {},
   "source": [
    "Veliki je broj gustih modela, kao što su [*Word2Vec*](https://en.wikipedia.org/wiki/Word2vec), [*GloVe*](https://en.wikipedia.org/wiki/GloVe), [*fastText*](https://en.wikipedia.org/wiki/FastText) ili [*ELMo*](https://en.wikipedia.org/wiki/ELMo). Ovakvi modeli, međutim, mahom rade nad rečima umesto nad tekstom uopšteno ili su zahtevni (hardverski i vremenski) za rad. Poznati laganiji modeli koji vektorizuju ceo tekst jesu [*BERT*](https://en.wikipedia.org/wiki/BERT_%28language_model%29) (*DistilBERT*, [*Sent2Vec*](https://pypi.org/project/sent2vec/)) i [*Doc2Vec*](https://radimrehurek.com/gensim/models/doc2vec.html)."
   ]
  }
 ],
 "metadata": {
  "kernelspec": {
   "display_name": "Python 3 (ipykernel)",
   "language": "python",
   "name": "python3"
  },
  "language_info": {
   "codemirror_mode": {
    "name": "ipython",
    "version": 3
   },
   "file_extension": ".py",
   "mimetype": "text/x-python",
   "name": "python",
   "nbconvert_exporter": "python",
   "pygments_lexer": "ipython3",
   "version": "3.9.7"
  }
 },
 "nbformat": 4,
 "nbformat_minor": 5
}
